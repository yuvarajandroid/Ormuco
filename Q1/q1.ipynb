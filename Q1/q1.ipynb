{
 "cells": [
  {
   "cell_type": "code",
   "execution_count": 15,
   "metadata": {},
   "outputs": [
    {
     "data": {
      "text/plain": [
       "'overlaps'"
      ]
     },
     "execution_count": 15,
     "metadata": {},
     "output_type": "execute_result"
    }
   ],
   "source": [
    "def Line1(p, q):  # p and q are ordered pairs\n",
    "  (X1, X2) = p\n",
    "  (X3, X4) = q\n",
    "  if X2 < X3 or X4 < X1:\n",
    "    return \"separate\"\n",
    "  else:\n",
    "    return \"overlaps\"\n",
    "Line1((1,5),(2,6))"
   ]
  },
  {
   "cell_type": "code",
   "execution_count": 14,
   "metadata": {},
   "outputs": [
    {
     "data": {
      "text/plain": [
       "'separate'"
      ]
     },
     "execution_count": 14,
     "metadata": {},
     "output_type": "execute_result"
    }
   ],
   "source": [
    "def Line2(p, q):  # p and q are ordered pairs\n",
    "  (X1, X2) = p\n",
    "  (X3, X4) = q\n",
    "  if X2 < X3 or X4 < X1:\n",
    "    return \"separate\"\n",
    "  else:\n",
    "    return \"overlaps\"\n",
    "Line2((1,5),(6,8))"
   ]
  },
  {
   "cell_type": "code",
   "execution_count": null,
   "metadata": {},
   "outputs": [],
   "source": []
  },
  {
   "cell_type": "code",
   "execution_count": null,
   "metadata": {},
   "outputs": [],
   "source": []
  }
 ],
 "metadata": {
  "kernelspec": {
   "display_name": "Python 3",
   "language": "python",
   "name": "python3"
  },
  "language_info": {
   "codemirror_mode": {
    "name": "ipython",
    "version": 3
   },
   "file_extension": ".py",
   "mimetype": "text/x-python",
   "name": "python",
   "nbconvert_exporter": "python",
   "pygments_lexer": "ipython3",
   "version": "3.6.4"
  }
 },
 "nbformat": 4,
 "nbformat_minor": 2
}
